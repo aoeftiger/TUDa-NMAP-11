{
 "cells": [
  {
   "cell_type": "markdown",
   "metadata": {
    "slideshow": {
     "slide_type": "slide"
    }
   },
   "source": [
    "<h1 style=\"text-align: center; vertical-align: middle;\">Numerical Methods of Accelerator Physics</h1>\n",
    "<h2 style=\"text-align: center; vertical-align: middle;\">Lecture Series by Dr. Adrian Oeftiger</h2>\n",
    "\n",
    "<h3 style=\"text-align: center; vertical-align: middle; margin-top: 1em; margin-bottom: 1em;\">Guest Lecture by Dr. Michael Schenk</h3>\n",
    "\n",
    "<img src=\"./img/etit.png\" style=\"width: 20%; margin: auto;\" />\n",
    "\n",
    "<h3 style=\"text-align: center; vertical-align: middle;\">Part 11: 20.01.2023</h3>"
   ]
  },
  {
   "cell_type": "markdown",
   "metadata": {
    "slideshow": {
     "slide_type": "slide"
    }
   },
   "source": [
    "<h2>Run this notebook online!</h2>\n",
    "\n",
    "Interact and run this jupyter notebook online:\n",
    "\n",
    "<div class=\"alert alert-block alert-info\" style=\"text-align:center;\">\n",
    "1. via the public mybinder.org service: <br />\n",
    "\n",
    "<p style=\"text-align: center; margin-left, margin-right: auto; width: 100%;\">\n",
    "<a href=\"https://mybinder.org/v2/gh/aoeftiger/TUDa-NMAP-11/v1.0\"><img src=\"./img/binder_logo.svg\" /></a>\n",
    "</p>\n",
    "</div>\n",
    "\n",
    "<div class=\"alert alert-block alert-success\" style=\"text-align:center;\">\n",
    "2. on the <a href=\"https://tu-jupyter-i.ca.hrz.tu-darmstadt.de/\">local TU Darmstadt jupyterhub $\\nearrow$</a> (using your TU ID)\n",
    "\n",
    "$\\implies$ make sure you installed all the required python packages (see the [README](./README.md))!\n",
    "</div>\n",
    "\n",
    "Finally, also find this lecture rendered [as HTML slides on github $\\nearrow$](https://aoeftiger.github.io/TUDa-NMAP-11/) along with the [source repository $\\nearrow$](https://github.com/aoeftiger/TUDa-NMAP-11)."
   ]
  },
  {
   "cell_type": "markdown",
   "metadata": {
    "slideshow": {
     "slide_type": "slide"
    }
   },
   "source": [
    "<h2>Run this first!</h2>\n",
    "\n",
    "Imports and modules:"
   ]
  },
  {
   "cell_type": "code",
   "execution_count": 1,
   "metadata": {
    "slideshow": {
     "slide_type": "-"
    }
   },
   "outputs": [],
   "source": [
    "from config import (np, plt)\n",
    "from scipy.constants import m_p, e, c\n",
    "%matplotlib inline"
   ]
  },
  {
   "cell_type": "markdown",
   "metadata": {
    "slideshow": {
     "slide_type": "slide"
    }
   },
   "source": [
    "<h2 style=\"color: #b51f2a\">Refresher / preparation!</h2>\n",
    "\n",
    "- Lecture by Dr. Andrea Santamaria Garcia: <a href=\"https://www.dropbox.com/s/vkqgojy81elpfs2/2023-01-KIT_SANTAMARIA_MLAcceleratorsIntro_v1.mov?dl=0\">Introduction to machine learning</a>"
   ]
  },
  {
   "cell_type": "markdown",
   "metadata": {
    "slideshow": {
     "slide_type": "slide"
    }
   },
   "source": [
    "<h2 style=\"color: #b51f2a\">Today!</h2>\n",
    "\n",
    "1. Introduction to reinforcement learning\n",
    "2. Q-learning\n",
    "3. Actor-critic methods"
   ]
  },
  {
   "cell_type": "markdown",
   "metadata": {
    "slideshow": {
     "slide_type": "fragment"
    }
   },
   "source": [
    "<h4>Disclaimer</h4>\n",
    "\n",
    "- Today's introduction to reinforcement learning (RL) is by no means mathematically complete\n",
    "- The idea is to give a high-level overview and some first ideas on the subject to hopefully spark your interest :)\n",
    "- RL is a fascinating field: if you want to learn more, there are some great resources at the end"
   ]
  },
  {
   "cell_type": "markdown",
   "metadata": {},
   "source": [
    "Smart learning vs. 'stupid' algorithms"
   ]
  },
  {
   "cell_type": "markdown",
   "metadata": {
    "slideshow": {
     "slide_type": "slide"
    }
   },
   "source": [
    "<h2>Motivation</h2>\n",
    "\n",
    "- discrete -> discrete: Q-table\n",
    "- continuous -> discrete: DQN\n",
    "- continuous -> continuous: actor-critic  => this is what we want for accelerators ...\n",
    "\n",
    "\n",
    "=> will understand how lecture is structured ..\n",
    "\n",
    "\n",
    "\n",
    "- Limitations of Q-learning\n",
    "    - Q-table: only works for discrete set of $(s, a)$ pairs\n",
    "    - Q-net: works for continuous $s$, but only discrete set of $a$ (finite number of nodes at output)\n",
    "\n",
    "\n",
    "- Many real-world problems require continuous variables (e.g. parameter tuning for particle accelerators)\n",
    "    - Popular solution: actor-critic methods "
   ]
  },
  {
   "cell_type": "markdown",
   "metadata": {
    "slideshow": {
     "slide_type": "slide"
    }
   },
   "source": [
    "<div style=\"text-align: center; width:100%;\">\n",
    "    <h2>Part I: introduction to reinforcement learning</h2>\n",
    "</div>"
   ]
  },
  {
   "cell_type": "markdown",
   "metadata": {
    "slideshow": {
     "slide_type": "slide"
    }
   },
   "source": [
    "<h2>Machine learning landscape</h2>\n",
    "\n",
    "\n",
    "<center>\n",
    "\n",
    "<img src=\"img/machine_learning_landscape.png\" alt=\"Machine learning landscape\" style=\"width: 60%;margin-top: 1cm;\" />\n",
    "<p style=\"clear: both; font-size: 10pt; text-align: right; float: right;\">image by <a href=\"https://www.linkedin.com/pulse/business-intelligence-its-relationship-big-data-geekstyle\">GeekStyle</a></p>\n",
    "    \n",
    "</center>"
   ]
  },
  {
   "cell_type": "markdown",
   "metadata": {
    "slideshow": {
     "slide_type": "slide"
    }
   },
   "source": [
    "- **Supervised learning**\n",
    "    - **Goal:** obtain mapping $F(x) = y$ using a *labelled* dataset $(x, y)$\n",
    "    - **Data:** $y$ is sometimes referred to as the ground truth or the label"
   ]
  },
  {
   "cell_type": "markdown",
   "metadata": {
    "slideshow": {
     "slide_type": "fragment"
    }
   },
   "source": [
    "- **Unsupervised learning**\n",
    "    - **Goal:** identify structure in data\n",
    "    - **Data:** no labelled dataset is available / needed"
   ]
  },
  {
   "cell_type": "markdown",
   "metadata": {
    "slideshow": {
     "slide_type": "fragment"
    }
   },
   "source": [
    "- **Reinforcement learning**\n",
    "    - **Goal:** find how to behave optimally in a given environment\n",
    "    - **Data:** an agent is actively interacting with the environment through trial-and-error and collects data (including positive or negative rewards)\n",
    "    - Closest to artificial intelligence: provide **minimal external input** and let the agent explore and learn by itself"
   ]
  },
  {
   "cell_type": "markdown",
   "metadata": {
    "slideshow": {
     "slide_type": "slide"
    }
   },
   "source": [
    "<h2>Reinforcement learning examples</h2>\n",
    "\n",
    "**DeepMind: AlphaGo**\n",
    "- One of the more famous RL successes: agent learning to play the game of Go and beating world champion Lee Sedol\n",
    "- In case you want to know more: <a href=\"https://www.youtube.com/watch?v=WXuK6gekU1Y\">documentary on YouTube</a>\n",
    "\n",
    "<center>\n",
    "\n",
    "<img src=\"img/alpha_go.png\" alt=\"AlphaGo\" style=\"width: 40%; margin-top: 1cm;\" />\n",
    "<p style=\"clear: both; font-size: 10pt; text-align: right; float: right;\"><a href=\"https://openai.com/blog/emergent-tool-use/\">DeepMind</a></p>\n",
    "    \n",
    "</center>"
   ]
  },
  {
   "cell_type": "markdown",
   "metadata": {
    "slideshow": {
     "slide_type": "slide"
    }
   },
   "source": [
    "<h2>Reinforcement learning examples</h2>\n",
    "\n",
    "**OpenAI: hide-and-seek**\n",
    "- RL agents learning to play hide-and-seek in a multi-agent setting\n",
    "- Recommend to watch the <a href=\"https://openai.com/blog/emergent-tool-use/\">short video</a>\n",
    "\n",
    "<center>\n",
    "\n",
    "<img src=\"img/hide_and_seek.png\" alt=\"Hide and seek\" style=\"width: 40%; margin-top: 1cm;\" />\n",
    "<p style=\"clear: both; font-size: 10pt; text-align: right; float: right;\"><a href=\"https://openai.com/blog/emergent-tool-use/\">OpenAI</a></p>\n",
    "    \n",
    "</center>"
   ]
  },
  {
   "cell_type": "markdown",
   "metadata": {
    "slideshow": {
     "slide_type": "slide"
    }
   },
   "source": [
    "<h2>Reinforcement learning examples</h2>\n",
    "\n",
    "**DeepMind & EPFL: tokamak control**\n",
    "- Shaping and maintaining high-temperature plasma within tokamak vessel is challenging\n",
    "- Requires high-dimensional, high-frequency, closed-loop control using magnetic actuator coils\n",
    "- Paper describes RL agent that was successfully trained as a magnetic controller\n",
    "\n",
    "<center>\n",
    "\n",
    "<img src=\"img/tokamak.png\" alt=\"RL for Tokamak\" style=\"width: 40%; margin-top: 1cm;\" />\n",
    "<p style=\"clear: both; font-size: 10pt; text-align: right; float: right;\"><a href=\"https://www.nature.com/articles/s41586-021-04301-9\">paper</a></p>\n",
    "    \n",
    "</center>"
   ]
  },
  {
   "cell_type": "markdown",
   "metadata": {
    "slideshow": {
     "slide_type": "slide"
    }
   },
   "source": [
    "<h2>Reinforcement learning examples</h2>\n",
    "\n",
    "**DeepMind: AlphaTensor**\n",
    "- Matrix multiplication is a very fundamental mathematical operation\n",
    "- Improving its computational efficiency can benefit many fields\n",
    "- RL agent discovered more computationally efficient algorithms than developed by humans\n",
    "\n",
    "<center>\n",
    "\n",
    "<img src=\"img/alpha_tensor.png\" alt=\"AlphaTensor\" style=\"width: 30%; margin-top: 1cm;\" />\n",
    "<p style=\"clear: both; font-size: 10pt; text-align: right; float: right;\"><a href=\"https://www.nature.com/articles/s41586-022-05172-4\">paper</a></p>\n",
    "\n",
    "</center>"
   ]
  },
  {
   "cell_type": "markdown",
   "metadata": {
    "slideshow": {
     "slide_type": "slide"
    }
   },
   "source": [
    "<h2>What is reinforcement learning?</h2>\n",
    "\n",
    "- **Application:** online control / decision-making tasks\n",
    "- **Goal:** learn optimal behavior in given environment\n",
    "- **Trial-and-error learning:** agent takes actions in environment and collects rewards\n",
    "- We provide **minimal input**: reward function, state definition\n",
    "\n",
    "<center>\n",
    "\n",
    "<img src=\"img/rl_schematic.png\" alt=\"RL schematically\" style=\"width: 50%;margin-top: 1cm;\" />\n",
    "    \n",
    "</center>"
   ]
  },
  {
   "cell_type": "markdown",
   "metadata": {
    "slideshow": {
     "slide_type": "slide"
    }
   },
   "source": [
    "<h2>An example: Pacman</h2>\n",
    "\n",
    "- For games it is typically easy to define what the state, actions, and rewards are\n",
    "    - **State:** where am I? Where are ghosts, snacks, cookies, walls?\n",
    "    - **Actions:** up, down, left, right\n",
    "    - **Reward:** food (+), ghosts (-)\n",
    "\n",
    "<center>\n",
    "\n",
    "<img src=\"img/pacman.png\" alt=\"Pacman example\" style=\"width: 40%; margin-top: 1cm;\" />\n",
    "    \n",
    "</center>"
   ]
  },
  {
   "cell_type": "markdown",
   "metadata": {
    "slideshow": {
     "slide_type": "slide"
    }
   },
   "source": [
    "<h2>Our environment</h2>\n",
    "\n",
    "- A **grid maze** with fires and a target field\n",
    "- The player, or agent, represented by a red cross, has to navigate through it and find the target field"
   ]
  },
  {
   "cell_type": "code",
   "execution_count": 2,
   "metadata": {
    "slideshow": {
     "slide_type": "-"
    }
   },
   "outputs": [
    {
     "data": {
      "image/png": "[encoded data removed]",
      "text/plain": [
       "<Figure size 360x216 with 1 Axes>"
      ]
     },
     "metadata": {},
     "output_type": "display_data"
    }
   ],
   "source": [
    "from utils import Maze\n",
    "\n",
    "env = Maze(height=3, width=5)\n",
    "env.plot();"
   ]
  },
  {
   "cell_type": "code",
   "execution_count": 3,
   "metadata": {
    "slideshow": {
     "slide_type": "slide"
    }
   },
   "outputs": [
    {
     "data": {
      "image/png": "[encoded data removed]",
      "text/plain": [
       "<Figure size 360x216 with 1 Axes>"
      ]
     },
     "metadata": {},
     "output_type": "display_data"
    },
    {
     "data": {
      "image/png": "[encoded data removed]",
      "text/plain": [
       "<Figure size 360x216 with 1 Axes>"
      ]
     },
     "metadata": {},
     "output_type": "display_data"
    },
    {
     "data": {
      "image/png": "[encoded data removed]",
      "text/plain": [
       "<Figure size 360x216 with 1 Axes>"
      ]
     },
     "metadata": {},
     "output_type": "display_data"
    }
   ],
   "source": [
    "# Take some actions\n",
    "env.plot()\n",
    "env.step(action='up')\n",
    "env.plot()\n",
    "env.step(action='right')\n",
    "env.plot();"
   ]
  },
  {
   "cell_type": "markdown",
   "metadata": {
    "slideshow": {
     "slide_type": "slide"
    }
   },
   "source": [
    "<h2>RL definitions for our maze</h2>\n",
    "\n",
    "- **State:** player / agent position (red cross)\n",
    "- **Action:** `up`, `down`, `left`, `right`\n",
    "- **Reward:** every action comes with a reward, depending on the new state we end up in\n",
    "    - Taking a step into an empty field: -1\n",
    "    - Bumping into walls: -5\n",
    "    - Going through fire: -10\n",
    "    - Reaching the goal: +30"
   ]
  },
  {
   "cell_type": "markdown",
   "metadata": {
    "slideshow": {
     "slide_type": "slide"
    }
   },
   "source": [
    "<h2>Making the best decisions ... </h2>\n",
    "\n",
    "- Obviously there are better and worse trajectories to reach the target. \"Better\" and \"worse\" refer to how much reward we can collect along the way.\n",
    "- We will get back to that when talking about the objective of RL\n",
    "\n",
    "**Exercise:**\n",
    "using the reward definitions from the previous slide, try to calculate the cumulative rewards for the trajectories shown below. Can you tell which of the paths are equally good / bad?"
   ]
  },
  {
   "cell_type": "markdown",
   "metadata": {
    "slideshow": {
     "slide_type": "-"
    }
   },
   "source": [
    "<center>\n",
    "\n",
    "<img src=\"img/example_trajectories.png\" alt=\"Example trajectories\" style=\"width: 35%;\" />\n",
    "    \n",
    "</center>"
   ]
  },
  {
   "cell_type": "markdown",
   "metadata": {
    "slideshow": {
     "slide_type": "slide"
    }
   },
   "source": [
    "<h2>Formalizing the problem</h2>"
   ]
  },
  {
   "cell_type": "markdown",
   "metadata": {
    "slideshow": {
     "slide_type": "slide"
    }
   },
   "source": [
    "<h3>Markov process</h3>\n",
    "\n",
    "- A **memoryless random process** consisting of a set of **states** and **state transition probabilities**\n",
    "- **Markov property:** the process is memoryless, i.e. the future depends only on the present state, but not on how we got there."
   ]
  },
  {
   "cell_type": "markdown",
   "metadata": {
    "slideshow": {
     "slide_type": "slide"
    }
   },
   "source": [
    "<center>\n",
    "\n",
    "<img src=\"img/markov_chain.png\" alt=\"Markov chain\" style=\"width: 50%;\" />\n",
    "<p style=\"clear: both; font-size: 10pt; text-align: right; float: right;\">image by <a href=\"https://www.davidsilver.uk/wp-content/uploads/2020/03/MDP.pdf\">D. Silver - Lecture on RL</a></p>\n",
    "    \n",
    "</center>"
   ]
  },
  {
   "cell_type": "markdown",
   "metadata": {
    "slideshow": {
     "slide_type": "slide"
    }
   },
   "source": [
    "<h3>Markov reward process</h3>\n",
    "\n",
    "- A Markov process that has in addition a **reward function** and a **discount factor** $\\gamma \\in [0, 1]$\n",
    "- **Return** $G_t$: sum of discounted future rewards\n",
    "\n",
    "$$G_t = \\sum_k \\gamma^k \\, r_{t+k}$$\n",
    "\n",
    "- $\\gamma$ controls the relative importance of immediate vs future rewards\n",
    "    - $\\gamma \\rightarrow 0$: we only care about immediate rewards\n",
    "    - $\\gamma \\rightarrow 1$: we care about rewards far in the future"
   ]
  },
  {
   "cell_type": "markdown",
   "metadata": {
    "slideshow": {
     "slide_type": "slide"
    }
   },
   "source": [
    "<center>\n",
    "    \n",
    "<img src=\"img/markov_reward_process.png\" alt=\"Markov reward process\" style=\"width: 50%;\" />\n",
    "<p style=\"clear: both; font-size: 10pt; text-align: right; float: right;\">image by <a href=\"https://www.davidsilver.uk/wp-content/uploads/2020/03/MDP.pdf\">D. Silver - Lecture on RL</a></p>\n",
    "    \n",
    "</center>"
   ]
  },
  {
   "cell_type": "markdown",
   "metadata": {
    "slideshow": {
     "slide_type": "slide"
    }
   },
   "source": [
    "<h3>Markov decision process (MDP)</h3>\n",
    "\n",
    "- add good image here ...\n",
    "- talk about episodic and non-episodic MDPs"
   ]
  },
  {
   "cell_type": "markdown",
   "metadata": {
    "slideshow": {
     "slide_type": "slide"
    }
   },
   "source": [
    "<h3>The policy $\\pi$</h3>\n",
    "\n",
    "- The policy defines the decision making (= behavior) of the agent\n",
    "- It is a probability distribution over the state-action space. You can also think of it as a mapping that assigns to each state-action pair $(s, a)$ a probability\n",
    "\n",
    "$$\\pi: S \\times A \\rightarrow [0, 1]$$\n",
    "\n",
    "\n",
    "- $S$ and $A$ are the state and action spaces, respectively\n",
    "    - For our maze example: $S = \\{[0, 0], [0, 1], ..., [\\text{width}-1, \\text{height}-1]\\}$ and $A = \\{\\text{'up', 'down', 'left', 'right'}\\}$."
   ]
  },
  {
   "cell_type": "markdown",
   "metadata": {
    "slideshow": {
     "slide_type": "slide"
    }
   },
   "source": [
    "**Exercise:** back to our maze! For now we do not yet care about the best behavior. Instead, try to **implement a random policy**, i.e. every action $a \\in \\{\\text{'up', 'down', 'left', 'right'}\\}$ is picked with equal probability in every state.\n",
    "\n",
    "**a)** Initialize a Maze with `height=3, width=2` and fill in the argument of `np.random.choice` with a list of the four possible actions to uniformly select one of them at every step.\n",
    "\n",
    "**b)** Look through the output and check whether it all makes sense (how player position moves and reward that is obtained)."
   ]
  },
  {
   "cell_type": "code",
   "execution_count": 4,
   "metadata": {
    "scrolled": false
   },
   "outputs": [
    {
     "ename": "SyntaxError",
     "evalue": "invalid syntax (<ipython-input-4-7852d64647fd>, line 4)",
     "output_type": "error",
     "traceback": [
      "\u001b[0;36m  File \u001b[0;32m\"<ipython-input-4-7852d64647fd>\"\u001b[0;36m, line \u001b[0;32m4\u001b[0m\n\u001b[0;31m    done = False\u001b[0m\n\u001b[0m    ^\u001b[0m\n\u001b[0;31mSyntaxError\u001b[0m\u001b[0;31m:\u001b[0m invalid syntax\n"
     ]
    }
   ],
   "source": [
    "env = Maze(# fill in here #)\n",
    "env.plot(title='Initial state')\n",
    "\n",
    "done = False\n",
    "while not done:\n",
    "    action = np.random.choice(actions# fill in here #)\n",
    "    state, action, reward, new_state, done = env.step(action)\n",
    "    env.plot();"
   ]
  },
  {
   "cell_type": "markdown",
   "metadata": {
    "slideshow": {
     "slide_type": "slide"
    }
   },
   "source": [
    "<h2>The RL objective</h2>\n",
    "\n",
    "- **Find optimal behavior in a given environment:** in every state we want the agent to take the best action\n",
    "- This is also known as the **optimal policy** $\\pi^*$\n",
    "- Formally, $\\pi^*$ maximizes the return $G_t = \\sum_k \\gamma^k \\, r_{t+k}$, i.e. the cumulative sum of discounted future rewards."
   ]
  },
  {
   "cell_type": "markdown",
   "metadata": {
    "slideshow": {
     "slide_type": "fragment"
    }
   },
   "source": [
    "- **For our maze, RL will solve ...**\n",
    "    - For any given field that we are currently on (= state), what is the action that maximizes the sum of rewards collected over time?\n",
    "    - Or: from where I stand - how can I reach the target field with the **least steps and not going through fires** (if possible) ?"
   ]
  },
  {
   "cell_type": "markdown",
   "metadata": {
    "slideshow": {
     "slide_type": "slide"
    }
   },
   "source": [
    "<h2>RL taxonomy</h2>\n",
    "\n",
    "- There are many **different algorithms** for finding the optimal policy $\\pi^*$\n",
    "- They all have their pros and cons\n",
    "    - Often the **sample-efficiency** is crucial\n",
    "    - It tells us **how many interactions with the environment** (= how many data samples) are necessary to solve the RL problem\n",
    "    \n",
    "    \n",
    "- **Today:** we are going to look at **Q-learning**. It is one of the **core ideas** of many RL algorithms, such as\n",
    "    - Deep Q-learning (DQN)\n",
    "    - Actor-critic methods (DDPG, TD3, SAC)"
   ]
  },
  {
   "cell_type": "markdown",
   "metadata": {
    "slideshow": {
     "slide_type": "slide"
    }
   },
   "source": [
    "<center>\n",
    "\n",
    "<img src=\"img/rl_taxonomy.png\" alt=\"The RL algorithm zoo\" style=\"width: 80%;\" />\n",
    "<p style=\"clear: both; font-size: 10pt; text-align: right; float: right;\">image by <a href=\"https://spinningup.openai.com/en/latest/spinningup/rl_intro2.html\">Open AI - Spinning Up</a></p>\n",
    "    \n",
    "</center>"
   ]
  },
  {
   "cell_type": "markdown",
   "metadata": {
    "slideshow": {
     "slide_type": "slide"
    }
   },
   "source": [
    "<h3>Classification according to sample efficiency</h3>\n",
    "\n",
    "<center>\n",
    "\n",
    "<img src=\"img/sample_efficiency.png\" alt=\"Sample efficiency\" style=\"width: 70%; margin-top: 2cm;\" />\n",
    "<p style=\"clear: both; font-size: 10pt; text-align: right; float: right;\">image by <a href=\"https://rail.eecs.berkeley.edu/deeprlcourse/\">S. Levine, \"Deep Reinforcement Learning\" (lecture)</a></p>\n",
    "    \n",
    "</center>"
   ]
  },
  {
   "cell_type": "markdown",
   "metadata": {
    "slideshow": {
     "slide_type": "slide"
    }
   },
   "source": [
    "<div style=\"text-align: center; width:100%;\">\n",
    "    <h2>Part II: Q-learning</h2>\n",
    "</div>"
   ]
  },
  {
   "cell_type": "markdown",
   "metadata": {
    "slideshow": {
     "slide_type": "slide"
    }
   },
   "source": [
    "<h2>Q-learning</h2>\n",
    "\n",
    "- Uses a **value function** $Q: S \\times A \\rightarrow \\mathbb{R}$, where $S$ and $A$ are the state and action spaces\n",
    "- The Q-value $Q_\\pi(s, a)$ corresponds to the **\"quality\" of the state-action pair** $(s, a)$ when following policy $\\pi$\n",
    "    - Quality is measured as the **expected return**\n",
    "    $Q_\\pi(s, a) = \\mathbb{E}[G_t | S_t = s, A_t = a]$\n",
    "    - $G_t = \\sum_k \\gamma^k \\, r_{t+k}$"
   ]
  },
  {
   "cell_type": "markdown",
   "metadata": {
    "slideshow": {
     "slide_type": "slide"
    }
   },
   "source": [
    "- **Temporal difference (TD) rule**\n",
    "    - Q-values are initially unknown / random, but can be learned **iteratively** following the TD update rule\n",
    "\n",
    "$$Q(s, a) \\leftarrow Q(s, a) + \\alpha \\underbrace{[\\underbrace{r + \\gamma \\text{max}_{a'} \\, Q(s', a')}_{\\text{Q-value target}} - \\underbrace{Q(s, a)}_{\\text{Q-value prediction}}]}_{\\text{TD error}}$$\n",
    "\n",
    "- Uses **trial-and-error experiences** collected by the agent in one step $(s, a, r, s')$: *state, action, reward, next state*.\n",
    "- $\\alpha$: learning rate"
   ]
  },
  {
   "cell_type": "markdown",
   "metadata": {
    "slideshow": {
     "slide_type": "slide"
    }
   },
   "source": [
    "- **Bootstrapping**\n",
    "    - We are using the estimate $\\text{max}_{a'} Q(s', a')$ to define our target (= ground truth label) for the TD error\n",
    "    - This can sometimes lead to unstable trainings, especially when using neural networks. A workaround was developed by DeepMind (*see <a href=\"https://arxiv.org/abs/1509.06461\">Double Q-learning</a>*)\n",
    "\n",
    "<center>\n",
    "\n",
    "<img src=\"img/backup_diag_qlearn.png\" alt=\"Q-learning backup diagram\" style=\"width: 60%;\" />\n",
    "<p style=\"clear: both; font-size: 10pt; text-align: right; float: right;\">\n",
    "    \n",
    "</center>"
   ]
  },
  {
   "cell_type": "markdown",
   "metadata": {
    "slideshow": {
     "slide_type": "slide"
    }
   },
   "source": [
    "<h2>Obtaining the optimal policy</h2>\n",
    "\n",
    "- Once Q-values have converged, it is easy to read off the optimal policy $\\pi^*$\n",
    "\n",
    "$$\n",
    "\\pi^*(s, a) = \\left\\{\n",
    "    \\begin{array}{ll}\n",
    "        1 & \\mbox{if } a = \\text{argmax}_{a'} \\, Q(s, a') \\\\\n",
    "        0 & \\mbox{otherwise.}\n",
    "    \\end{array}\n",
    "\\right.\n",
    "$$\n",
    "\n",
    "- This is also known as the **greedy policy**: it acts greedily in terms of expected return by assigning probability $1$ to the action that maximizes the Q-function."
   ]
  },
  {
   "cell_type": "markdown",
   "metadata": {
    "slideshow": {
     "slide_type": "slide"
    }
   },
   "source": [
    "<h2>How to implement Q-learning?</h2>\n",
    "\n",
    "- We need a way to track and update the Q-values for each state-action pair\n",
    "    - Traditional Q-learning: **Q-table**\n",
    "    - Deep Q-learning: **neural network**\n",
    "    \n",
    "\n",
    "- Let's try both!"
   ]
  },
  {
   "cell_type": "markdown",
   "metadata": {
    "slideshow": {
     "slide_type": "-"
    }
   },
   "source": [
    "<center>\n",
    "\n",
    "<img src=\"img/qlearn_dqn.png\" alt=\"Q-learning vs DQN\" style=\"width: 45%;\" />\n",
    "<p style=\"clear: both; font-size: 10pt; text-align: right; float: right;\">image by <a href=\"https://www.assemblyai.com/blog/reinforcement-learning-with-deep-q-learning-explained/\">AssemblyAI</a></p>\n",
    "\n",
    "</center>"
   ]
  },
  {
   "cell_type": "markdown",
   "metadata": {
    "slideshow": {
     "slide_type": "slide"
    }
   },
   "source": [
    "<h3>Exploration-exploitation tradeoff</h3>\n",
    "\n",
    "- To learn the best policy in the most efficient manner, we have to find a **good trade-off between exploitation and exploration**.\n",
    "- This means, we have to **ensure that the agent keeps exploring** new actions during training and does not just always follow the path that provides the highest expected return.\n",
    "- After all, Q-values might **not have converged yet**, there may be better solutions.\n",
    "\n",
    "\n",
    "\n",
    "**Analogy**  ==> reduce text / add image\n",
    "- Imagine you go to your favorite restaurant and you always order the same dish, because you like it so much (gets you highest reward to your current knowledge; you are in full exploitation mode).\n",
    "- But if you do not explore any of the other dishes, you might actually miss out and not get the best one on the entire menu."
   ]
  },
  {
   "cell_type": "markdown",
   "metadata": {
    "slideshow": {
     "slide_type": "slide"
    }
   },
   "source": [
    "<h2>Q-table learning</h2>\n",
    "\n",
    "- add here explanation how Q-table learning works ..."
   ]
  },
  {
   "cell_type": "code",
   "execution_count": 5,
   "metadata": {
    "slideshow": {
     "slide_type": "slide"
    }
   },
   "outputs": [
    {
     "name": "stdout",
     "output_type": "stream",
     "text": [
      "Initial Q-table\n",
      "+--------+-----+------+------+-------+\n",
      "| s \\ a  |  up | down | left | right |\n",
      "+--------+-----+------+------+-------+\n",
      "| (0, 0) | 0.0 | 0.0  | 0.0  |  0.0  |\n",
      "| (0, 1) | 0.0 | 0.0  | 0.0  |  0.0  |\n",
      "| (1, 0) | 0.0 | 0.0  | 0.0  |  0.0  |\n",
      "| (1, 1) | 0.0 | 0.0  | 0.0  |  0.0  |\n",
      "+--------+-----+------+------+-------+\n"
     ]
    },
    {
     "data": {
      "image/png": "[encoded data removed]",
      "text/plain": [
       "<Figure size 144x144 with 1 Axes>"
      ]
     },
     "metadata": {},
     "output_type": "display_data"
    }
   ],
   "source": [
    "from plot_utils import print_qtable\n",
    "from utils import Maze, QLearner\n",
    "\n",
    "env = Maze(width=2, height=2, fire_positions=[[1, 0]])\n",
    "_ = env.plot(add_player_position=False)\n",
    "\n",
    "# Initialize Q-learner with Q-table\n",
    "qtable_learner = QLearner(env, q_function='table')\n",
    "\n",
    "print('Initial Q-table')\n",
    "q_table = qtable_learner.q_func.get_q_table()\n",
    "print_qtable(q_table)"
   ]
  },
  {
   "cell_type": "code",
   "execution_count": 6,
   "metadata": {
    "slideshow": {
     "slide_type": "slide"
    }
   },
   "outputs": [
    {
     "name": "stderr",
     "output_type": "stream",
     "text": [
      "100%|██████████| 500/500 [00:02<00:00, 198.01it/s]"
     ]
    },
    {
     "name": "stdout",
     "output_type": "stream",
     "text": [
      "Q-table after 500 episodes\n",
      "+--------+------+------+------+-------+\n",
      "| s \\ a  |  up  | down | left | right |\n",
      "+--------+------+------+------+-------+\n",
      "| (0, 0) | 23.3 | 13.3 | 13.9 |  8.6  |\n",
      "| (0, 1) | 18.1 | 15.9 | 17.4 |  28.0 |\n",
      "| (1, 0) | 23.4 | 4.8  | 11.8 |  4.7  |\n",
      "| (1, 1) | 0.0  | 0.0  | 0.0  |  0.0  |\n",
      "+--------+------+------+------+-------+\n"
     ]
    },
    {
     "name": "stderr",
     "output_type": "stream",
     "text": [
      "\n"
     ]
    }
   ],
   "source": [
    "qtable_learner.train(500)\n",
    "\n",
    "print('Q-table after 500 episodes')\n",
    "q_table = qtable_learner.q_func.get_q_table()\n",
    "print_qtable(q_table)"
   ]
  },
  {
   "cell_type": "code",
   "execution_count": 7,
   "metadata": {
    "slideshow": {
     "slide_type": "slide"
    }
   },
   "outputs": [
    {
     "name": "stderr",
     "output_type": "stream",
     "text": [
      "100%|██████████| 1500/1500 [00:07<00:00, 191.19it/s]"
     ]
    },
    {
     "name": "stdout",
     "output_type": "stream",
     "text": [
      "Q-table after 2000 episodes\n",
      "+--------+------+------+------+-------+\n",
      "| s \\ a  |  up  | down | left | right |\n",
      "+--------+------+------+------+-------+\n",
      "| (0, 0) | 28.7 | 23.4 | 23.4 |  19.6 |\n",
      "| (0, 1) | 24.7 | 27.4 | 24.7 |  30.0 |\n",
      "| (1, 0) | 30.0 | 19.5 | 27.3 |  19.4 |\n",
      "| (1, 1) | 0.0  | 0.0  | 0.0  |  0.0  |\n",
      "+--------+------+------+------+-------+\n"
     ]
    },
    {
     "name": "stderr",
     "output_type": "stream",
     "text": [
      "\n"
     ]
    }
   ],
   "source": [
    "qtable_learner.train(1500)\n",
    "\n",
    "print('Q-table after 2000 episodes')\n",
    "q_table = qtable_learner.q_func.get_q_table()\n",
    "print_qtable(q_table)"
   ]
  },
  {
   "cell_type": "markdown",
   "metadata": {
    "slideshow": {
     "slide_type": "slide"
    }
   },
   "source": [
    "<h2>Evolution of Q-table values over training time</h2>"
   ]
  },
  {
   "cell_type": "code",
   "execution_count": 8,
   "metadata": {
    "slideshow": {
     "slide_type": "-"
    }
   },
   "outputs": [
    {
     "data": {
      "image/png": "[encoded data removed]",
      "text/plain": [
       "<Figure size 540x360 with 1 Axes>"
      ]
     },
     "metadata": {
      "needs_background": "light"
     },
     "output_type": "display_data"
    }
   ],
   "source": [
    "qtable_learner.plot_training_evolution()"
   ]
  },
  {
   "cell_type": "markdown",
   "metadata": {},
   "source": [
    "**Question:** would you consider the training to be complete from the evolution of Q-values above?"
   ]
  },
  {
   "cell_type": "markdown",
   "metadata": {
    "slideshow": {
     "slide_type": "slide"
    }
   },
   "source": [
    "**Exercise:**\n",
    "\n",
    "**a)** Initialize a bigger maze `height=4`, `width=5`, with `fire_positions=[[2, 1], [2, 2]]` and use `q_function='table'` in the `QLearner` class. Then train for `5000` episodes. \n",
    "\n",
    "**b)** Once the training is finished, plot the Q-table.\n",
    "\n",
    "**c)** Finally, also plot the greedy policy. Compare it to the Q-values to verify that it indeed always picks the action with the highest Q-value."
   ]
  },
  {
   "cell_type": "code",
   "execution_count": 9,
   "metadata": {},
   "outputs": [
    {
     "name": "stderr",
     "output_type": "stream",
     "text": [
      "100%|██████████| 5000/5000 [00:33<00:00, 148.63it/s]\n"
     ]
    }
   ],
   "source": [
    "from utils import Maze, QLearner\n",
    "\n",
    "env = Maze(width=4, height=3, fire_positions=[[2, 1], [2, 2]])\n",
    "qtable_learner = QLearner(env, q_function='table')\n",
    "qtable_learner.train(5000)"
   ]
  },
  {
   "cell_type": "code",
   "execution_count": 10,
   "metadata": {
    "slideshow": {
     "slide_type": "slide"
    }
   },
   "outputs": [
    {
     "data": {
      "image/png": "[encoded data removed]",
      "text/plain": [
       "<Figure size 288x216 with 1 Axes>"
      ]
     },
     "metadata": {},
     "output_type": "display_data"
    }
   ],
   "source": [
    "from plot_utils import plot_q_table\n",
    "\n",
    "q_table = qtable_learner.q_func.get_q_table()\n",
    "ax = env.plot(add_player_position=False)\n",
    "plot_q_table(q_table, env.target_position, env.fire_positions, ax=ax)"
   ]
  },
  {
   "cell_type": "code",
   "execution_count": 11,
   "metadata": {
    "slideshow": {
     "slide_type": "slide"
    }
   },
   "outputs": [
    {
     "data": {
      "image/png": "[encoded data removed]",
      "text/plain": [
       "<Figure size 288x216 with 1 Axes>"
      ]
     },
     "metadata": {},
     "output_type": "display_data"
    }
   ],
   "source": [
    "from plot_utils import plot_greedy_policy\n",
    "\n",
    "policy = qtable_learner.q_func.get_greedy_policy()\n",
    "ax = env.plot(add_player_position=False)\n",
    "plot_greedy_policy(policy, env.target_position, env.fire_positions, ax=ax)"
   ]
  },
  {
   "cell_type": "markdown",
   "metadata": {
    "slideshow": {
     "slide_type": "slide"
    }
   },
   "source": [
    "<h2>Deep Q-learning (DQN)</h2>\n",
    "\n",
    "- Developed by DeepMind to play Atari games initially\n",
    "- We replace the Q-table by a simple, feed-forward neural network\n",
    "- We update its weights according to the TD rule, similar to the Q-table learner\n",
    "\n",
    "\n",
    "- explain the NN idea briefly\n",
    "\n",
    "<center>\n",
    "\n",
    "<img src=\"img/q_net.png\" alt=\"Q-net\" style=\"width: 50%; margin-top: 1cm;\" />\n",
    "<p style=\"clear: both; font-size: 10pt; text-align: right; float: right;\"></p>\n",
    "\n",
    "</center>"
   ]
  },
  {
   "cell_type": "markdown",
   "metadata": {
    "slideshow": {
     "slide_type": "slide"
    }
   },
   "source": [
    "**Exercise:**\n",
    "\n",
    "**a)** Repeat the same steps as above for the Q-table learner, but this time using `q_function='net'` as an argument in the `QLearner` class. Train it for `2000` episodes. This will take a couple of minutes.\n",
    "\n",
    "**b)** Compare the Q-values and policy to the one obtained with Q-table learning. Do you see differences? Why could that be?"
   ]
  },
  {
   "cell_type": "code",
   "execution_count": 12,
   "metadata": {
    "slideshow": {
     "slide_type": "slide"
    }
   },
   "outputs": [
    {
     "name": "stderr",
     "output_type": "stream",
     "text": [
      "100%|██████████| 2000/2000 [02:31<00:00, 13.19it/s]\n"
     ]
    }
   ],
   "source": [
    "from utils import Maze, QLearner\n",
    "\n",
    "env = Maze(width=4, height=3, fire_positions=[[2, 1], [2, 2]])\n",
    "qnet_learner = QLearner(env, q_function='net')\n",
    "qnet_learner.train(2000)"
   ]
  },
  {
   "cell_type": "code",
   "execution_count": 13,
   "metadata": {},
   "outputs": [
    {
     "data": {
      "image/png": "[encoded data removed]",
      "text/plain": [
       "<Figure size 288x216 with 1 Axes>"
      ]
     },
     "metadata": {},
     "output_type": "display_data"
    }
   ],
   "source": [
    "from plot_utils import plot_q_table\n",
    "\n",
    "q_table = qnet_learner.q_func.get_q_table()\n",
    "ax = env.plot(add_player_position=False)\n",
    "plot_q_table(q_table, env.target_position, env.fire_positions, ax=ax)"
   ]
  },
  {
   "cell_type": "code",
   "execution_count": 14,
   "metadata": {},
   "outputs": [
    {
     "data": {
      "image/png": "[encoded data removed]",
      "text/plain": [
       "<Figure size 288x216 with 1 Axes>"
      ]
     },
     "metadata": {},
     "output_type": "display_data"
    }
   ],
   "source": [
    "from plot_utils import plot_greedy_policy\n",
    "\n",
    "policy = qnet_learner.q_func.get_greedy_policy()\n",
    "ax = env.plot(add_player_position=False)\n",
    "plot_greedy_policy(policy, env.target_position, env.fire_positions, ax=ax)"
   ]
  },
  {
   "cell_type": "markdown",
   "metadata": {
    "slideshow": {
     "slide_type": "slide"
    }
   },
   "source": [
    "<h2>Other important aspects of RL</h2>"
   ]
  },
  {
   "cell_type": "markdown",
   "metadata": {
    "slideshow": {
     "slide_type": "slide"
    }
   },
   "source": [
    "<h3>Experience replay</h3>\n",
    "\n",
    "leave out ...\n",
    "\n",
    "<center>\n",
    "\n",
    "<img src=\"img/replay.png\" alt=\"Q-learning vs DQN\" style=\"width: 80%;margin-top: 1cm;\" />\n",
    "<p style=\"clear: both; font-size: 10pt; text-align: right; float: right;\">image by <a href=\"https://www.endtoend.ai/paper-unraveled/cer/\">endtoend.ai</a></p>\n",
    "\n",
    "</center>\n",
    "\n",
    "*Note that experience replay can only be used for on-policy, but not for off-policy algorithms (see e.g. <a href=\"https://towardsdatascience.com/on-policy-v-s-off-policy-learning-75089916bc2f\">here</a> if interested)*"
   ]
  },
  {
   "cell_type": "markdown",
   "metadata": {},
   "source": [
    "<h2>Exercise ideas</h2>\n",
    "\n",
    "- Observe how policy changes with different amounts of training iterations\n",
    "- Compare Q-values for Q-table and Q-net methods: what differences do you see? Are the policies identical? What's happened?\n",
    "- Change `fire_reward` to a low value (e.g. -2) and check how that changes your policy.\n",
    "\n",
    "<!-- - Check the Q-values on the grid after training: can you find fields where several actions have the same Q-values? What does that mean? Does it make sense intuitively?-->"
   ]
  },
  {
   "cell_type": "markdown",
   "metadata": {},
   "source": [
    "<h2>Comprehension question ideas</h2>\n",
    "\n",
    "- Is the Markov property fulfilled for our maze environment? Why or why not?\n",
    "- Why does Q-learning in its basic form only work for discrete action spaces? (or: what's the issue with Q-learning when working with continuous actions?)\n",
    "- Describe how you can obtain the optimal policy once the Q-function has converged.\n",
    "- Which parameter do you have to tune to put more weight on immediate rewards?\n",
    "- Why might some of the Q-table values converge earlier than others?\n",
    "- ...\n",
    "\n",
    "- Try yes / no questions, simplify"
   ]
  },
  {
   "cell_type": "markdown",
   "metadata": {
    "slideshow": {
     "slide_type": "slide"
    }
   },
   "source": [
    "<h2>Hit Me!</h2>\n",
    "\n",
    "(...)\n",
    "\n",
    "<p style=\"color: #e6541a;\">$\\implies$ play with the value XY and try out ABC! (Exercise for the students to change some cells)</p>"
   ]
  },
  {
   "cell_type": "markdown",
   "metadata": {
    "slideshow": {
     "slide_type": "slide"
    }
   },
   "source": [
    "<div style=\"text-align: center; width:100%;\">\n",
    "    <h2>Part III: actor-critic methods</h2>\n",
    "</div>"
   ]
  },
  {
   "cell_type": "markdown",
   "metadata": {
    "slideshow": {
     "slide_type": "slide"
    }
   },
   "source": [
    "<h2>Actor-critic scheme</h2>\n",
    "\n",
    "- **Two networks**\n",
    "    - **Actor:** represents the policy $\\pi$\n",
    "    - **Critic:** predicts Q-values\n",
    "    \n",
    "    \n",
    "- **Actor**\n",
    "    - Mapping $\\pi: S \\rightarrow A$\n",
    "    - For each (continuous) state, it proposes a (continuous) action\n",
    "    \n",
    "    \n",
    "- **Critic**\n",
    "    - Mapping $Q: S\\times A \\rightarrow \\mathbb{R}$\n",
    "    - Evaluates quality of proposed $(s, a)$ pair through its Q-value\n",
    "    - Feeds back to the actor network: policy gradient rule"
   ]
  },
  {
   "cell_type": "markdown",
   "metadata": {
    "slideshow": {
     "slide_type": "slide"
    }
   },
   "source": [
    "<center>\n",
    "\n",
    "<img src=\"img/actor_critic.png\" alt=\"Actor-critic schematic\" style=\"width: 60%;\" />\n",
    "\n",
    "</center>"
   ]
  },
  {
   "cell_type": "markdown",
   "metadata": {},
   "source": [
    "- **Critic parameters** $\\theta$ are updated according to the **temporal difference rule** (like in Q-learning)\n",
    "- **Actor parameters** $\\chi$ are updated via **policy gradient**: for a given state $s$, how does the actor have to adjust its parameters to propose an action $a$ such that $Q(s,a)$ is higher next time"
   ]
  },
  {
   "cell_type": "markdown",
   "metadata": {
    "slideshow": {
     "slide_type": "slide"
    }
   },
   "source": [
    "<h2>Accelerator trajectory steering</h2>\n",
    "\n",
    "What is awake?\n",
    "\n",
    "<center>\n",
    "\n",
    "<img src=\"img/awake_beamline.png\" alt=\"AWAKE beamline\" style=\"width: 50%; margin-top: 1cm;\" />\n",
    "    \n",
    "</center>"
   ]
  },
  {
   "cell_type": "markdown",
   "metadata": {},
   "source": [
    "- How does the actor-critic algorithm work? Why do we go for that one?\n",
    "- Introduce the accelerator trajectory steering environment\n",
    "- Exercise: train it and see how well it does ..."
   ]
  },
  {
   "cell_type": "markdown",
   "metadata": {
    "slideshow": {
     "slide_type": "slide"
    }
   },
   "source": [
    "<h2>Summary</h2>\n",
    "\n",
    "- ... all contents as relevant for the exam"
   ]
  },
  {
   "cell_type": "markdown",
   "metadata": {
    "slideshow": {
     "slide_type": "slide"
    }
   },
   "source": [
    "<h2>Literature</h2>\n",
    "\n",
    "- R.S. Sutton and A.G. Barto, <a href=\"http://incompleteideas.net/book/RLbook2020.pdf\">\"Reinforcement learning - an introduction\"</a>, Book, 2nd edition, 2020.\n",
    "- S. Levine, <a href=\"https://rail.eecs.berkeley.edu/deeprlcourse/\">Deep Reinforcement Learning</a>, Lecture, UC Berkeley, 2022.\n",
    "- D. Silver, <a href=\"https://www.davidsilver.uk/teaching/\">Reinforcement learning</a>, Lecture, University College London (UCL), 2015."
   ]
  },
  {
   "cell_type": "code",
   "execution_count": null,
   "metadata": {},
   "outputs": [],
   "source": []
  },
  {
   "cell_type": "markdown",
   "metadata": {},
   "source": [
    "<h2>Open items?</h2>\n",
    "\n",
    "- Exploration-exploitation tradeoff\n",
    "- Challenges: reward shaping / definition\n",
    "- Double Q-learning\n",
    "- State must be (at least partially) observable \n"
   ]
  },
  {
   "cell_type": "code",
   "execution_count": null,
   "metadata": {},
   "outputs": [],
   "source": []
  }
 ],
 "metadata": {
  "celltoolbar": "Slideshow",
  "kernelspec": {
   "display_name": "Python 3",
   "language": "python",
   "name": "python3"
  },
  "language_info": {
   "codemirror_mode": {
    "name": "ipython",
    "version": 3
   },
   "file_extension": ".py",
   "mimetype": "text/x-python",
   "name": "python",
   "nbconvert_exporter": "python",
   "pygments_lexer": "ipython3",
   "version": "3.8.5"
  },
  "rise": {
   "enable_chalkboard": true,
   "footer": "<p>Fachbereich Elektrotechnik und Informationstechnik (etit)   |   Institut für Teilchenbeschleunigung und Elektromagnetische Felder (TEMF)   |   Dr. Adrian Oeftiger</p>",
   "header": "<img src='https://upload.wikimedia.org/wikipedia/de/thumb/2/24/TU_Darmstadt_Logo.svg/640px-TU_Darmstadt_Logo.svg.png' />",
   "scroll": true,
   "theme": "simple",
   "transition": "none"
  }
 },
 "nbformat": 4,
 "nbformat_minor": 5
}
